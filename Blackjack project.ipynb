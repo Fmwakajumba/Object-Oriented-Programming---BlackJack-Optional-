{
 "cells": [
  {
   "cell_type": "code",
   "execution_count": 34,
   "id": "344c0043",
   "metadata": {},
   "outputs": [],
   "source": [
    "import random\n",
    "\n",
    "\n",
    "class blackJack():\n",
    "    \n",
    "    \n",
    "    def __init__(self, dealerHand, playerHand):\n",
    "        self.dealerHand = []\n",
    "        self.playerHand = []\n",
    "        \n",
    "        \n",
    "    def dealerDeck(self):\n",
    "        if len(self.dealerHand) != 2:\n",
    "            self.dealerHand.append(random.randint(1,13))\n",
    "            self.dealerHand.append(random.randint(1,13))\n",
    "            print(\"Dealer has: ? , \", self.dealerHand[0])\n",
    "        \n",
    "            \n",
    "    def playerDeck(self):\n",
    "        if len(self.playerHand) != 2:\n",
    "            self.playerHand.append(random.randint(1,13))\n",
    "            self.playerHand.append(random.randint(1,13))\n",
    "            print(\"You have: \", self.playerHand)\n",
    "            \n",
    "        if sum(self.playerHand) == 21:\n",
    "                print(\"Blackjack, you win!\")\n",
    "        \n",
    "        elif sum(self.playerHand) > 21: \n",
    "            print(\"Bust! Game over!\")\n",
    "            \n",
    "        else:\n",
    "            pass\n",
    "        \n",
    "                \n",
    "            \n",
    "            \n",
    "    def hitPlayerDealerHand(self):\n",
    "        self.dealerHand.append(random.randint(1,13))\n",
    "        self.playerHand.append(random.randint(1,13))\n",
    "        print(f\"You now have a total of {sum(self.playerHand)} from your cards {self.playerHand}. Would you like to hit or stand? \")\n",
    "        \n",
    "    def standGame(self):\n",
    "        print(f\"The dealer has a total of {sum(self.dealerHand)}, with {self.dealerHand}.\")\n",
    "        print(f\"You have a total of {sum(self.playerHand)}, with {self.playerHand}.\")\n",
    "        \n",
    "        if sum(self.dealerHand) > sum(self.playerHand):\n",
    "                print(\"Dealer wins, better luck next time.\")\n",
    "                \n",
    "        elif sum(self.dealerHand) < sum(self.playerHand):\n",
    "                print(\"Congratulations! You win!\")\n",
    "                \n",
    "        else:\n",
    "                print(\"Tie! Gameover\")\n",
    "        \n",
    "            \n",
    "    "
   ]
  },
  {
   "cell_type": "code",
   "execution_count": 37,
   "id": "46328fbd",
   "metadata": {},
   "outputs": [
    {
     "name": "stdout",
     "output_type": "stream",
     "text": [
      "Please select one of the followiong options: Deal(Select if starting game)/Hit/Stand/or Quit - deal\n",
      "Dealer has: ? ,  6\n",
      "You have:  [9, 4]\n",
      "Please select one of the followiong options: Deal(Select if starting game)/Hit/Stand/or Quit - hit\n",
      "You now have a total of 18 from your cards [9, 4, 5]. Would you like to hit or stand? \n",
      "Please select one of the followiong options: Deal(Select if starting game)/Hit/Stand/or Quit - stand\n",
      "The dealer has a total of 17, with [6, 6, 5].\n",
      "You have a total of 18, with [9, 4, 5].\n",
      "Congratulations! You win!\n",
      "Please select one of the followiong options: Deal(Select if starting game)/Hit/Stand/or Quit - quit\n"
     ]
    }
   ],
   "source": [
    "start_game = blackJack([], [])\n",
    "\n",
    "def run():\n",
    "    while True:\n",
    "        response = input(\"Please select one of the followiong options: Deal(Select if starting game)/Hit/Stand/or Quit - \")\n",
    "        \n",
    "        if response.lower() == 'deal':\n",
    "            start_game.dealerDeck()\n",
    "            start_game.playerDeck()\n",
    "            \n",
    "        \n",
    "        elif response.lower() == 'hit':\n",
    "            start_game.hitPlayerDealerHand()\n",
    "            \n",
    "        elif response.lower() == 'stand':\n",
    "            start_game.standGame()\n",
    "        \n",
    "        elif response.lower() =='quit':\n",
    "            break\n",
    "            \n",
    "        else:\n",
    "            print(\"Please select one of the listed options\")\n",
    "            \n",
    "run()"
   ]
  },
  {
   "cell_type": "code",
   "execution_count": null,
   "id": "31f64acb",
   "metadata": {},
   "outputs": [],
   "source": []
  }
 ],
 "metadata": {
  "kernelspec": {
   "display_name": "Python 3 (ipykernel)",
   "language": "python",
   "name": "python3"
  },
  "language_info": {
   "codemirror_mode": {
    "name": "ipython",
    "version": 3
   },
   "file_extension": ".py",
   "mimetype": "text/x-python",
   "name": "python",
   "nbconvert_exporter": "python",
   "pygments_lexer": "ipython3",
   "version": "3.9.7"
  }
 },
 "nbformat": 4,
 "nbformat_minor": 5
}
